{
 "cells": [
  {
   "cell_type": "markdown",
   "metadata": {
    "dotnet_interactive": {
     "language": "csharp"
    },
    "polyglot_notebook": {
     "kernelName": "csharp"
    }
   },
   "source": [
    "# Lab 6 Exercise 4\n"
   ]
  },
  {
   "cell_type": "markdown",
   "metadata": {},
   "source": [
    "\n",
    "## string literals\n",
    "\n",
    "ข้อจำกัดอย่างหนึ่งในการใช้งาน string ในภาษาโปรแกรมคือการแยกแยะความแตกต่างระหว่างคำสั่งและข้อความ \n",
    "\n",
    "การแก้ปัญหาดังกล่าวในภาษาโปรแกรมต่างๆ ก็จะมีข้อกำหนดที่แตกต่างกันไป ในภาษาตระกูล C ได้มีข้อกำหนดในการใช้ข้อความคือต้องล้อมรอบด้วยเครืองหมายคำพูด (\")\n",
    "\n",
    "ถ้าเราต้องการแสดงเครื่องหมายคำพูด (\") ออกไปที่จอภาพก็จะเกิดปัญหาตามมา นั้นคือโปรแกรมจะคิดว่าเครื่องหมายคำพูดนั้นคือจุดสิ้นสุดของข้อความ ให้ทดลองรันโปรแกรมด้านล่างนี้ "
   ]
  },
  {
   "cell_type": "code",
   "execution_count": null,
   "metadata": {
    "dotnet_interactive": {
     "language": "csharp"
    },
    "polyglot_notebook": {
     "kernelName": "csharp"
    }
   },
   "outputs": [
    {
     "name": "stdout",
     "output_type": "stream",
     "text": [
      "สวัสดี ฉันชื่อ หมูเด้ง\r\n"
     ]
    }
   ],
   "source": [
    "Console.WriteLine(\"สวัสดี ฉันชื่อ หมูเด้ง\");"
   ]
  },
  {
   "cell_type": "markdown",
   "metadata": {},
   "source": [
    "จากโปรแกรมข้างต้น compiler จะคิดว่ามีข้อความ `\"สวัสดี ฉันชื่อ \"` ตามด้วย `หมูเด้ง\"\"` ซึ่งมีไวยากรณ์ที่ไม่ถูกต้องตามหลักของภาษา"
   ]
  },
  {
   "cell_type": "markdown",
   "metadata": {},
   "source": [
    "เพื่อให้สามารถเขียนโปรแกรมได้ตามวัตถุประสงค์ ผู้ออกแบบโปรแกรมในภาษาต่างๆ จึงได้คิดวิธีการส่งอักขระที่เป็น _อักขระพิเศษ_ ออกไปยัง console โดยวิธีที่เรียกว่า `escape` ซึ่งแปลตรงตัวว่า `หลบหนี` นั่นคือมีการลักลอบส่งตัวอักษรที่ต้องการออกไปทาง console โดยที่ยังไม่มองว่าเป็นจุดสิ้นสุดของข้อความนั่นเอง"
   ]
  },
  {
   "cell_type": "markdown",
   "metadata": {},
   "source": [
    "### อักขระพิเศษ\n",
    "\n",
    "อักขระพิเศษ คืออักขระพิเศษที่ไม่สามารถพิมพ์ลงไปใน string ได้โดยตรง \n",
    "\n",
    "ตัวอย่าง Escape Sequences ที่พบบ่อย\n",
    "\n",
    "| Escape Sequence | ความหมาย|\n",
    "|-------|-----|\n",
    "| \\\"\t|เครื่องหมายคำพูด\n",
    "| \\\\\t|backslash\n",
    "| \\n\t|newline (ขึ้นบรรทัดใหม่)\n",
    "| \\t\t|tab (ย่อหน้า)\n",
    "| \\r\t|carriage return (กลับไปยังหัวบรรทัด)\n",
    "| \\a\t|alert (เสียงเตือน)\n",
    "| \\b\t|backspace (ลบอักขระก่อนหน้า)\n",
    "\n"
   ]
  },
  {
   "cell_type": "markdown",
   "metadata": {},
   "source": [
    "ทดลองรันโปรแกรมต่อไปนี้"
   ]
  },
  {
   "cell_type": "code",
   "execution_count": null,
   "metadata": {
    "dotnet_interactive": {
     "language": "csharp"
    },
    "polyglot_notebook": {
     "kernelName": "csharp"
    }
   },
   "outputs": [
    {
     "name": "stdout",
     "output_type": "stream",
     "text": [
      "He said, \"Hello!\"\r\n"
     ]
    }
   ],
   "source": [
    "string message1 = \"He said, \\\"Hello!\\\"\";  \n",
    "Console.WriteLine(message1);"
   ]
  },
  {
   "cell_type": "code",
   "execution_count": null,
   "metadata": {
    "dotnet_interactive": {
     "language": "csharp"
    },
    "polyglot_notebook": {
     "kernelName": "csharp"
    }
   },
   "outputs": [
    {
     "name": "stdout",
     "output_type": "stream",
     "text": [
      "C:\\Users\\JohnDoe\\Documents\r\n"
     ]
    }
   ],
   "source": [
    "string message2 = \"C:\\\\Users\\\\JohnDoe\\\\Documents\";  \n",
    "Console.WriteLine(message2);"
   ]
  },
  {
   "cell_type": "code",
   "execution_count": null,
   "metadata": {
    "dotnet_interactive": {
     "language": "csharp"
    },
    "polyglot_notebook": {
     "kernelName": "csharp"
    }
   },
   "outputs": [
    {
     "name": "stdout",
     "output_type": "stream",
     "text": [
      "Line 1\n",
      "Line 2\r\n"
     ]
    }
   ],
   "source": [
    "string message3 = \"Line 1\\nLine 2\";\n",
    "Console.WriteLine(message3);"
   ]
  },
  {
   "cell_type": "markdown",
   "metadata": {},
   "source": [
    "## Quoted string literals\n",
    "\n",
    "ในภาษา C#  Quoted string literals เป็นวิธีการใหม่ในการสร้าง string ที่ช่วยให้เราสามารถใส่ข้อความที่มีเครื่องหมายพิเศษต่างๆ ได้ง่ายขึ้น  โดยไม่ต้องใช้ escape sequences\n",
    "\n",
    "การใช้งาน Quoted string literals ทำได้โดยการใช้เครื่องหมาย @ นำหน้า string  และใช้เครื่องหมายคำพูดคู่ (\"\")  เพื่อกำหนดขอบเขตของ string\n",
    "\n",
    "ตัวอย่างเช่น  ถ้าเราต้องการสร้าง string  ที่มีข้อความ  ___สวัสดี ฉันชื่อ \"หมูเด้ง\"___  (รวมเครื่องหมายคำพูด)  เราสามารถเขียนแบบนี้ได้:\n",
    "\n"
   ]
  },
  {
   "cell_type": "code",
   "execution_count": null,
   "metadata": {
    "dotnet_interactive": {
     "language": "csharp"
    },
    "polyglot_notebook": {
     "kernelName": "csharp"
    }
   },
   "outputs": [
    {
     "name": "stdout",
     "output_type": "stream",
     "text": [
      "สวัสดี ฉันชื่อ \"หมูเด้ง\"\r\n"
     ]
    }
   ],
   "source": [
    "Console.WriteLine(\"สวัสดี ฉันชื่อ \\\"หมูเด้ง\\\"\");"
   ]
  },
  {
   "cell_type": "markdown",
   "metadata": {},
   "source": [
    "## การปฏิบัติ"
   ]
  },
  {
   "cell_type": "markdown",
   "metadata": {},
   "source": [
    "1. สร้าง project ใหม่\n",
    "\n",
    "> ```\n",
    ">   dotnet new console -n Lab06_Exercise04\n",
    "> ```\n"
   ]
  },
  {
   "cell_type": "markdown",
   "metadata": {},
   "source": [
    "\n",
    "2. แก้ไข code ใน Program.cs เป็นดังนี้\n",
    "\n",
    ">   ```c#\n",
    ">       string columns = \"Column 1\\tColumn 2\\tColumn 3\";\n",
    ">       string rows = \"Row 1\\r\\nRow 2\\r\\nRow 3\";\n",
    ">       string title = \"\\\"I \\u0003 C\\u0023\";\n",
    ">       \n",
    ">       System.Console.WriteLine(columns);\n",
    ">       System.Console.WriteLine(rows);\n",
    ">       System.Console.WriteLine(title);\n",
    ">   ```\n"
   ]
  },
  {
   "cell_type": "markdown",
   "metadata": {},
   "source": [
    "3. อธิบายโปรแกรม\n",
    "ให้ศึกษาโปรแกรมด้านบนและอธิบายการทำงาน"
   ]
  },
  {
   "cell_type": "markdown",
   "metadata": {},
   "source": [
    "คำตอบ\n",
    "\n",
    "เป็นการกำหนดข้อความโดย columns และ row เพื่อใช้สำหรับการจัดรูปแบบของข้อความ"
   ]
  },
  {
   "cell_type": "markdown",
   "metadata": {},
   "source": [
    "4. รันโปรแกรม\n",
    "\n",
    "> ```\n",
    ">   dotnet run --project Lab06_Exercise04\n",
    "> ```\n"
   ]
  },
  {
   "cell_type": "markdown",
   "metadata": {},
   "source": [
    "## ศึกษาเพิ่มเติม\n",
    "\n",
    "[String escape sequences](https://learn.microsoft.com/en-us/dotnet/csharp/programming-guide/strings/#string-escape-sequences)"
   ]
  },
  {
   "cell_type": "markdown",
   "metadata": {},
   "source": [
    "5. การส่งงาน\n",
    "\n",
    "บันทึกภาพหน้าจอโปรแกรม แนบในใบงานนี้"
   ]
  },
  {
   "attachments": {
    "image.png": {
     "image/png": "[encoded data removed]"
    }
   },
   "cell_type": "markdown",
   "metadata": {},
   "source": [
    "![image.png](attachment:image.png)"
   ]
  }
 ],
 "metadata": {
  "kernelspec": {
   "display_name": ".NET (C#)",
   "language": "C#",
   "name": ".net-csharp"
  },
  "polyglot_notebook": {
   "kernelInfo": {
    "defaultKernelName": "csharp",
    "items": [
     {
      "aliases": [],
      "languageName": "csharp",
      "name": "csharp"
     }
    ]
   }
  }
 },
 "nbformat": 4,
 "nbformat_minor": 2
}
